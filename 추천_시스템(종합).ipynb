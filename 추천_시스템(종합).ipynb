{
 "cells": [
  {
   "cell_type": "code",
   "execution_count": 1,
   "id": "6d363e7c",
   "metadata": {},
   "outputs": [],
   "source": [
    "import pandas as pd"
   ]
  },
  {
   "cell_type": "markdown",
   "id": "f6c4b73a",
   "metadata": {},
   "source": [
    "## 데이터"
   ]
  },
  {
   "cell_type": "code",
   "execution_count": 3,
   "id": "ed6fc66d",
   "metadata": {},
   "outputs": [],
   "source": [
    "origin_data = pd.read_csv('./final_vod.csv', encoding = 'cp949')"
   ]
  },
  {
   "cell_type": "code",
   "execution_count": null,
   "id": "c21f6a05",
   "metadata": {},
   "outputs": [],
   "source": [
    "origin_data.head(1)"
   ]
  },
  {
   "cell_type": "code",
   "execution_count": 7,
   "id": "c62e68f5",
   "metadata": {},
   "outputs": [],
   "source": [
    "genre_data = origin_data[['subsr', 'ct_cl']]"
   ]
  },
  {
   "cell_type": "code",
   "execution_count": 8,
   "id": "94dda111",
   "metadata": {},
   "outputs": [
    {
     "data": {
      "text/html": [
       "<div>\n",
       "<style scoped>\n",
       "    .dataframe tbody tr th:only-of-type {\n",
       "        vertical-align: middle;\n",
       "    }\n",
       "\n",
       "    .dataframe tbody tr th {\n",
       "        vertical-align: top;\n",
       "    }\n",
       "\n",
       "    .dataframe thead th {\n",
       "        text-align: right;\n",
       "    }\n",
       "</style>\n",
       "<table border=\"1\" class=\"dataframe\">\n",
       "  <thead>\n",
       "    <tr style=\"text-align: right;\">\n",
       "      <th></th>\n",
       "      <th>subsr</th>\n",
       "      <th>ct_cl</th>\n",
       "    </tr>\n",
       "  </thead>\n",
       "  <tbody>\n",
       "    <tr>\n",
       "      <th>0</th>\n",
       "      <td>65941000</td>\n",
       "      <td>TV 시사/교양</td>\n",
       "    </tr>\n",
       "    <tr>\n",
       "      <th>1</th>\n",
       "      <td>66873000</td>\n",
       "      <td>TV 시사/교양</td>\n",
       "    </tr>\n",
       "  </tbody>\n",
       "</table>\n",
       "</div>"
      ],
      "text/plain": [
       "      subsr     ct_cl\n",
       "0  65941000  TV 시사/교양\n",
       "1  66873000  TV 시사/교양"
      ]
     },
     "execution_count": 8,
     "metadata": {},
     "output_type": "execute_result"
    }
   ],
   "source": [
    "genre_data.head(2)"
   ]
  },
  {
   "cell_type": "code",
   "execution_count": null,
   "id": "c47ee043",
   "metadata": {
    "scrolled": false
   },
   "outputs": [],
   "source": [
    "genre_data.groupby('subsr').count().reset_index()"
   ]
  },
  {
   "cell_type": "markdown",
   "id": "f6faebc7",
   "metadata": {},
   "source": [
    "## 시청 데이터가 많은 시청자들 중 다양한 장르를 시청한 시청자 탐색"
   ]
  },
  {
   "cell_type": "code",
   "execution_count": null,
   "id": "966f4b1e",
   "metadata": {
    "scrolled": false
   },
   "outputs": [],
   "source": [
    "subsr_list = ['']\n",
    "\n",
    "for subsr in subsr_list:\n",
    "    chr = genre_data[genre_data['subsr'] == subsr]\n",
    "    if chr['ct_cl'].nunique() > 3:\n",
    "        print('subsr :', subsr)\n",
    "        #chr['ct_cl'].nunique()\n",
    "        print(chr.groupby('ct_cl').count())"
   ]
  },
  {
   "cell_type": "code",
   "execution_count": 28,
   "id": "2f3c0de0",
   "metadata": {},
   "outputs": [
    {
     "data": {
      "text/html": [
       "<div>\n",
       "<style scoped>\n",
       "    .dataframe tbody tr th:only-of-type {\n",
       "        vertical-align: middle;\n",
       "    }\n",
       "\n",
       "    .dataframe tbody tr th {\n",
       "        vertical-align: top;\n",
       "    }\n",
       "\n",
       "    .dataframe thead th {\n",
       "        text-align: right;\n",
       "    }\n",
       "</style>\n",
       "<table border=\"1\" class=\"dataframe\">\n",
       "  <thead>\n",
       "    <tr style=\"text-align: right;\">\n",
       "      <th></th>\n",
       "      <th>subsr</th>\n",
       "      <th>ct_cl</th>\n",
       "    </tr>\n",
       "  </thead>\n",
       "  <tbody>\n",
       "    <tr>\n",
       "      <th>24</th>\n",
       "      <td>64154000</td>\n",
       "      <td>TV 시사/교양</td>\n",
       "    </tr>\n",
       "    <tr>\n",
       "      <th>103</th>\n",
       "      <td>64154000</td>\n",
       "      <td>TV 시사/교양</td>\n",
       "    </tr>\n",
       "    <tr>\n",
       "      <th>441</th>\n",
       "      <td>64154000</td>\n",
       "      <td>TV 연예/오락</td>\n",
       "    </tr>\n",
       "    <tr>\n",
       "      <th>938</th>\n",
       "      <td>64154000</td>\n",
       "      <td>TV 연예/오락</td>\n",
       "    </tr>\n",
       "    <tr>\n",
       "      <th>1231</th>\n",
       "      <td>64154000</td>\n",
       "      <td>TV드라마</td>\n",
       "    </tr>\n",
       "  </tbody>\n",
       "</table>\n",
       "</div>"
      ],
      "text/plain": [
       "         subsr     ct_cl\n",
       "24    64154000  TV 시사/교양\n",
       "103   64154000  TV 시사/교양\n",
       "441   64154000  TV 연예/오락\n",
       "938   64154000  TV 연예/오락\n",
       "1231  64154000     TV드라마"
      ]
     },
     "execution_count": 28,
     "metadata": {},
     "output_type": "execute_result"
    }
   ],
   "source": [
    "chr = genre_data[genre_data['subsr'] == 64154000]\n",
    "chr.head()"
   ]
  },
  {
   "cell_type": "code",
   "execution_count": 31,
   "id": "d74b4199",
   "metadata": {
    "scrolled": true
   },
   "outputs": [
    {
     "data": {
      "text/plain": [
       "4"
      ]
     },
     "execution_count": 31,
     "metadata": {},
     "output_type": "execute_result"
    }
   ],
   "source": [
    "chr['ct_cl'].nunique()"
   ]
  },
  {
   "cell_type": "code",
   "execution_count": null,
   "id": "10ea0da7",
   "metadata": {},
   "outputs": [],
   "source": [
    "# 가장 시청이 많은 1명과 다양하게 시청한 1명을 가지고 테스트\n",
    "main_subsr = [64154000, 64659000]"
   ]
  },
  {
   "cell_type": "markdown",
   "id": "dcf2dcbb",
   "metadata": {},
   "source": [
    "## 선정한 2명을 가지고 추천 수행"
   ]
  },
  {
   "cell_type": "markdown",
   "id": "51c716dd",
   "metadata": {},
   "source": [
    "### 시청 시간 기반 추천"
   ]
  },
  {
   "cell_type": "code",
   "execution_count": 33,
   "id": "33e14d58",
   "metadata": {},
   "outputs": [],
   "source": [
    "run_data = origin_data[['use_tms', 'disp_rtm_s', 'asset_nm_new']]"
   ]
  },
  {
   "cell_type": "code",
   "execution_count": 51,
   "id": "4884fc9a",
   "metadata": {},
   "outputs": [],
   "source": [
    "# 러닝 타임 기반 추천(사람과 상관 없이 공통 추천)\n",
    "def runningtime_recommendation(data):\n",
    "    # 시청 기록을 저장할 dict\n",
    "    watch_dict = {}\n",
    "    \n",
    "    # 데이터프레임을 순회하면서 러닝 타임의 합계와 시청 횟수 계산\n",
    "    for _, item in data.iterrows():\n",
    "        running_time = item['disp_rtm_s']\n",
    "        watch_time = item['use_tms']\n",
    "        content_name = item['asset_nm_new']\n",
    "\n",
    "        # 아직 dict 가 생성되지 않은 경우\n",
    "        if content_name not in watch_dict:\n",
    "            watch_dict[content_name] = [watch_time, running_time, 1]\n",
    "        # 이미 dict 에 데이터가 들어있는 경우\n",
    "        else:\n",
    "            value = watch_dict[content_name]\n",
    "            watch_dict[content_name] = [value[0] + watch_time, value[1] + running_time, value[2] + 1]\n",
    "    \n",
    "    # 러닝타임 대비 시청 시간 비율 계산\n",
    "    for item in watch_dict:\n",
    "        w, r, times = watch_dict[item]\n",
    "        if r != 0.0:\n",
    "            watch_dict[item] = [w / r, times]\n",
    "        else:\n",
    "            watch_dict[item] = [0, times]\n",
    "            \n",
    "    # 시청 횟수 기준 설정\n",
    "    watch_times_limit = 5\n",
    "    del_times_list = []\n",
    "    \n",
    "    # 시청 횟수 기준 이하인 리스트 생성\n",
    "    for item in watch_dict:\n",
    "        if watch_dict[item][1] <= watch_times_limit:\n",
    "            del_times_list.append(item)\n",
    "    # 시청 횟수가 기준 이하인 데이터 삭제        \n",
    "    for item in del_times_list:\n",
    "        del(watch_dict[item])\n",
    "        \n",
    "            \n",
    "    # 러닝 타임 대비 시청 시간 비율 순서대로 정렬\n",
    "    sorted_dict = sorted(watch_dict.items(), key = lambda item: item[1], reverse = True)\n",
    "    \n",
    "    # 러닝 타임 대비 시청 시간 비율이 높은 순서대로 상위 10개 출력\n",
    "    for item in sorted_dict[:10]:\n",
    "        print(item[0])"
   ]
  },
  {
   "cell_type": "code",
   "execution_count": null,
   "id": "6c3af71d",
   "metadata": {},
   "outputs": [],
   "source": [
    "runningtime_recommendation(run_data)"
   ]
  },
  {
   "cell_type": "code",
   "execution_count": 55,
   "id": "acdf6ac1",
   "metadata": {},
   "outputs": [],
   "source": [
    "non_kids = origin_data[origin_data['ct_cl'] != '키즈']"
   ]
  },
  {
   "cell_type": "code",
   "execution_count": null,
   "id": "66e17fc6",
   "metadata": {},
   "outputs": [],
   "source": [
    "non_kids_run_data = non_kids[['use_tms', 'disp_rtm_s', 'asset_nm_new']]\n",
    "\n",
    "runningtime_recommendation(non_kids_run_data)"
   ]
  },
  {
   "cell_type": "markdown",
   "id": "817fc78a",
   "metadata": {},
   "source": [
    "### 줄거리 기반 추천"
   ]
  },
  {
   "cell_type": "code",
   "execution_count": 71,
   "id": "1efa7b09",
   "metadata": {},
   "outputs": [],
   "source": [
    "from konlpy.tag import Twitter\n",
    "import math\n",
    "import scipy as sp\n",
    "from sklearn.feature_extraction.text import CountVectorizer\n",
    "import nltk"
   ]
  },
  {
   "cell_type": "code",
   "execution_count": 69,
   "id": "0d530b0f",
   "metadata": {},
   "outputs": [],
   "source": [
    "open_file = open('./text files/detail_genre.txt', 'r', encoding = 'utf8')\n",
    "text = open_file.read()\n",
    "open_file.close()\n",
    "\n",
    "# 파일에서 읽어온 데이터 확인\n",
    "#print(text)\n",
    "\n",
    "data_list = text.split('\\n')\n",
    "\n",
    "# data_list 의 마지막에 공백이 추가되므로 공백 제거\n",
    "data_list = data_list[:-2]\n",
    "# 확인\n",
    "#print(data_list)"
   ]
  },
  {
   "cell_type": "code",
   "execution_count": 72,
   "id": "51c287bc",
   "metadata": {},
   "outputs": [],
   "source": [
    "with open('./text files/stopword.txt', 'r', encoding = 'utf-8') as f:\n",
    "    stopwords = f.read()\n",
    "\n",
    "#print(type(stopwords))\n",
    "stopwords_list = stopwords.split('\\n')\n",
    "\n",
    "word_dict_data = {}\n",
    "\n",
    "# 각 세부 장르 별로 단어 리스트 생성하고 저장\n",
    "for detail_genre in data_list:\n",
    "    # 각 세부 장르에 대해 단어 데이터 가져오기\n",
    "    open_file = open('./text files/' + detail_genre + '_words.txt', 'r', encoding = 'utf8')\n",
    "    text = open_file.read()\n",
    "    \n",
    "    # 파일 닫기\n",
    "    open_file.close()\n",
    "    \n",
    "    # 각 단어 분리하기\n",
    "    text_list = text.split('\\n')\n",
    "    text_list = text_list[:-2] # 마지막의 공백 제외\n",
    "    \n",
    "    # 각 세부 장르별 줄거리의 단어 갯수 확인 => 가장 단어의 갯수가 적은 경우는 15개\n",
    "    #no_dup = set(text)\n",
    "    #print(detail_genre, ' : ', len(text), len(no_dup))\n",
    "    \n",
    "    # 각 장르별 주요 단어 찾기\n",
    "    spliter = Twitter()\n",
    "    nouns_for_dictionary = spliter.nouns(text)\n",
    "    ko = nltk.Text(nouns_for_dictionary, name = detail_genre)\n",
    "    \n",
    "    \n",
    "    # 불용어 제거\n",
    "    ko1 = [each_word for each_word in ko if each_word not in stopwords_list]\n",
    "    ko = nltk.Text(ko1, name = detail_genre)\n",
    "    word_dict = dict(ko.vocab())\n",
    "\n",
    "    # 확인\n",
    "    #print(type(word_dict))\n",
    "    sorted_dictionary = sorted(word_dict.items(), key = lambda item: item[1], reverse = True)\n",
    "    #print(sorted_dictionary)\n",
    "    \n",
    "    # 단어 리스트를 dict 형태로 저장\n",
    "    word_dict_data[detail_genre] = word_dict"
   ]
  },
  {
   "cell_type": "code",
   "execution_count": 79,
   "id": "71d15c21",
   "metadata": {},
   "outputs": [],
   "source": [
    "# 장르별 벡터 저장\n",
    "word_vector_dict = {}\n",
    "\n",
    "vectorizer = CountVectorizer(min_df = 0.05)\n",
    "    \n",
    "# dict 형태로 저장되어 있는 단어 데이터를 읽고\n",
    "# 각 단어들을 모아서 하나의 문장으로 만든 다음 저장\n",
    "for detail_genre in data_list:\n",
    "    contents_tokens = word_dict_data[detail_genre]\n",
    "\n",
    "    # 벡터화를 위해 단어들을 가지고 문장 생성\n",
    "    contents_for_vect = []\n",
    "    sentence = ''\n",
    "    # 토큰 단위로 구분된 문장을 생성\n",
    "    for content in contents_tokens:\n",
    "        sentence += ' ' + content\n",
    "\n",
    "    # 생성한 문장을 리스트에 추가\n",
    "    contents_for_vect.append(sentence)\n",
    "    \n",
    "    word_vector_dict[detail_genre] = contents_for_vect"
   ]
  },
  {
   "cell_type": "code",
   "execution_count": 82,
   "id": "ffa325eb",
   "metadata": {},
   "outputs": [],
   "source": [
    "#거리 구해주는 함수 생성\n",
    "def dist_raw(v1, v2):\n",
    "    # 차이를 계산\n",
    "    delta = v1 - v2\n",
    "    \n",
    "    return sp.linalg.norm(delta.toarray())"
   ]
  },
  {
   "cell_type": "code",
   "execution_count": 84,
   "id": "7105f93c",
   "metadata": {},
   "outputs": [],
   "source": [
    "# 사용자 번호를 입력으로 사용\n",
    "def genre_rec(subsr_num):\n",
    "    # 사용자 번호가 일치하는 데이터 중 줄거리만 가져오기\n",
    "    user_data = origin_data[origin_data['subsr'] == subsr_num]['SMRY']\n",
    "    \n",
    "    smry_list = []\n",
    "    # 데이터를 순회하면서 줄거리 저장\n",
    "    for item in user_data:\n",
    "        if item not in smry_list:\n",
    "            smry_list.append(item)\n",
    "        \n",
    "    smry_sentence = ''\n",
    "    for smry in smry_list:\n",
    "        smry_sentence += (smry + ' ')\n",
    "        \n",
    "    # 샘플 문장 토큰화\n",
    "    spliter = Twitter()\n",
    "    sample_words = spliter.nouns(smry_sentence)\n",
    "\n",
    "    # 가장 거리가 짧은 세부 장르 계산용\n",
    "    min_distance = 65536\n",
    "    min_detail_genre = 'None'\n",
    "\n",
    "        \n",
    "    for detail_genre in data_list:\n",
    "        vectorizer = CountVectorizer(min_df = 1) # 1번만 등장해도 단어 사전에 포함시키도록\n",
    "\n",
    "        # 장르 별로 줄거리 불러오기 - dict 의 value\n",
    "        contents_tokens = word_vector_dict[detail_genre]\n",
    "\n",
    "        sentence = contents_tokens[0]\n",
    "\n",
    "        # 생성한 문장을 리스트에 추가\n",
    "        contents_for_vect = []\n",
    "        contents_for_vect.append(sentence)\n",
    "\n",
    "        # 피처 벡터화 - 띄어쓰기를 기준으로 벡터화\n",
    "        X = vectorizer.fit_transform(contents_for_vect)\n",
    "\n",
    "        # 샘플 줄거리 문장을 피처 벡터화\n",
    "        new_content_vect = vectorizer.transform([smry_sentence])\n",
    "\n",
    "        # 거리 계산\n",
    "        post_vec = X.getrow(0) # 단어 문장이 1개이므로 첫번째인 0번 인덱스\n",
    "        distance = dist_raw(new_content_vect, post_vec)\n",
    "\n",
    "        # 세부 장르별 단어의 갯수를 세고 일정 갯수 이하이면 제외\n",
    "        length = post_vec.shape[1]\n",
    "        limit_length = 100\n",
    "        limit_cor = 0.3\n",
    "        if length < limit_length:\n",
    "            pass\n",
    "\n",
    "        else:\n",
    "            # 일치율 계산하기\n",
    "            count = 0\n",
    "            for item in sample_words:\n",
    "                if item in contents_tokens[0]:\n",
    "                    count += 1\n",
    "\n",
    "            cor = count / len(sample_words)\n",
    "\n",
    "            # 일치율이 기준을 넘는 경우에만 거리를 계산\n",
    "            if cor < limit_cor:\n",
    "                pass\n",
    "\n",
    "            else:\n",
    "                # 결과 확인 - 장르와의 거리는 줄거리 단어의 길이를 가중치로 반영하여 계산\n",
    "                weighted_distance = distance / (math.log10(length)) / cor\n",
    "                print(detail_genre, ' 장르와의 거리는 : \\t', weighted_distance, sep='') \n",
    "                # 1000을 곱한 이유는 쉽게 보기 위함\n",
    "                print(detail_genre, ' 장르와의 거리(원본)는 : \\t', distance, sep='')\n",
    "                print(detail_genre, ' 장르와의 일치율은 : \\t', cor * 100 , '%', sep='')\n",
    "                print(detail_genre, ' 장르의 단어 길이는 : \\t', length, '\\n',sep='')\n",
    "\n",
    "                if weighted_distance < min_distance:\n",
    "                    min_distance = weighted_distance\n",
    "                    min_detail_genre = detail_genre\n",
    "\n",
    "    # 최종 결과         \n",
    "    print('가장 유사한 장르는 ', min_detail_genre, sep = '')"
   ]
  },
  {
   "cell_type": "code",
   "execution_count": null,
   "id": "323b6fec",
   "metadata": {
    "scrolled": false
   },
   "outputs": [],
   "source": [
    "genre_rec(64154000)"
   ]
  },
  {
   "cell_type": "code",
   "execution_count": null,
   "id": "e6d36f38",
   "metadata": {},
   "outputs": [],
   "source": [
    "genre_rec(64659000)"
   ]
  },
  {
   "cell_type": "markdown",
   "id": "389abe22",
   "metadata": {},
   "source": [
    "### 출연진 기반 추천"
   ]
  },
  {
   "cell_type": "code",
   "execution_count": 91,
   "id": "a9d91daa",
   "metadata": {},
   "outputs": [],
   "source": [
    "drop_data = origin_data[['asset_nm_new', 'ACTR_DISP']]"
   ]
  },
  {
   "cell_type": "code",
   "execution_count": 127,
   "id": "25ccedc7",
   "metadata": {},
   "outputs": [],
   "source": [
    "from collections import Counter\n",
    "\n",
    "# 사용자 번호를 입력받아서 시청한 컨텐츠에 출연한 출연진 기반 추천\n",
    "def cast_recommendaton(subsr_num):\n",
    "    view_data = origin_data[origin_data['subsr'] == subsr_num][['asset_nm_new','ACTR_DISP']]\n",
    "    \n",
    "    # 출연진 정보를 저장할 list\n",
    "    actr_list = []\n",
    "\n",
    "    # 시청 데이터를 순회하면서 출연진 정보를 저장\n",
    "    for _, item in view_data.iterrows():\n",
    "        actr = item['ACTR_DISP']\n",
    "        \n",
    "        if ',' in actr:\n",
    "            item_list = actr.split(',')\n",
    "        else:\n",
    "            item_list = [actr]\n",
    "\n",
    "        for actr in item_list:\n",
    "            if actr != '-':\n",
    "                actr_list.append(actr)\n",
    "            \n",
    "    count = Counter(actr_list)\n",
    "\n",
    "    # 가장 많이 출연한 상위 N 명의 출연진 정보\n",
    "    N_people = 30\n",
    "    bestN_actr = count.most_common(N_people)\n",
    "    print(bestN_actr)\n",
    "    \n",
    "    # 상위 N위 출연진에 대해 가중치 설정\n",
    "    score_sum = 0\n",
    "    for actr_score in bestN_actr:\n",
    "        score_sum += actr_score[1]\n",
    "\n",
    "    w_bestN = []\n",
    "    # 출연진 가중치 점수를 소수 아래 2자리 반올림\n",
    "    for actr_score in bestN_actr:\n",
    "        w_bestN.append([actr_score[0], round((actr_score[1] / score_sum), 2)])\n",
    "        \n",
    "        \n",
    "    actr_score_list = []\n",
    "    # 각 행을 순회하면서 출연진 정보에 대한 점수를 더해서 데이터 생성\n",
    "    for _, item in drop_data.iterrows():\n",
    "        score_data = 0\n",
    "\n",
    "        for name_score in w_bestN:\n",
    "            if name_score[0] in str(item['ACTR_DISP']):\n",
    "                score_data += name_score[1]\n",
    "        actr_score_list.append(score_data)\n",
    "\n",
    "    # 기존 데이터에 컬럼 추가\n",
    "    drop_data['ATCR_SCORE'] = actr_score_list\n",
    "\n",
    "    # 출연진 점수를 기준으로 순위 부여\n",
    "    drop_data['rank'] = drop_data['ATCR_SCORE'].rank(method = 'min', na_option = 'bottom',\n",
    "                                                    ascending = False)\n",
    "    \n",
    "    count_data = drop_data.groupby(['asset_nm_new', 'ATCR_SCORE']).count().reset_index()\n",
    "    \n",
    "    # ATCR_SCORE 를 기준으로 정렬을 수행\n",
    "    sorted_ac_data = count_data.sort_values(by = ['ATCR_SCORE', 'asset_nm_new'], ascending = False)\n",
    "    print(sorted_ac_data)\n",
    "    \n",
    "    # 상위 10개 컨텐츠의 정보를 리스트로 생성\n",
    "    top10 = list(sorted_ac_data['asset_nm_new'][:10])\n",
    "    print(top10)"
   ]
  },
  {
   "cell_type": "code",
   "execution_count": null,
   "id": "2d71dd12",
   "metadata": {
    "scrolled": false
   },
   "outputs": [],
   "source": [
    "cast_recommendaton(64154000)"
   ]
  },
  {
   "cell_type": "code",
   "execution_count": null,
   "id": "2941a1e3",
   "metadata": {
    "scrolled": false
   },
   "outputs": [],
   "source": [
    "cast_recommendaton(64659000)"
   ]
  },
  {
   "cell_type": "markdown",
   "id": "93592b16",
   "metadata": {},
   "source": [
    "## 추천"
   ]
  },
  {
   "cell_type": "code",
   "execution_count": null,
   "id": "bb3cc3c8",
   "metadata": {},
   "outputs": [],
   "source": [
    "# 시청 시간 비율 기반 추천\n",
    "runningtime_recommendation(run_data)"
   ]
  },
  {
   "cell_type": "code",
   "execution_count": null,
   "id": "b049e3af",
   "metadata": {
    "scrolled": true
   },
   "outputs": [],
   "source": [
    "# 시청 시간 비율 기반 추천 - 키즈 장르 제외\n",
    "runningtime_recommendation(non_kids_run_data)"
   ]
  },
  {
   "cell_type": "code",
   "execution_count": null,
   "id": "05965329",
   "metadata": {},
   "outputs": [],
   "source": [
    "# 줄거리 기반 장르 추천\n",
    "genre_rec(64154000)"
   ]
  },
  {
   "cell_type": "code",
   "execution_count": null,
   "id": "e62479f8",
   "metadata": {},
   "outputs": [],
   "source": [
    "# 줄거리 기반 장르 추천\n",
    "genre_rec(64659000)"
   ]
  },
  {
   "cell_type": "code",
   "execution_count": null,
   "id": "ddf5e200",
   "metadata": {},
   "outputs": [],
   "source": [
    "# 출연진 기반 추천\n",
    "cast_recommendaton(64154000)"
   ]
  },
  {
   "cell_type": "code",
   "execution_count": null,
   "id": "00ec3b8b",
   "metadata": {},
   "outputs": [],
   "source": [
    "# 출연진 기반 추천\n",
    "cast_recommendaton(64659000)"
   ]
  }
 ],
 "metadata": {
  "kernelspec": {
   "display_name": "Python 3 (ipykernel)",
   "language": "python",
   "name": "python3"
  },
  "language_info": {
   "codemirror_mode": {
    "name": "ipython",
    "version": 3
   },
   "file_extension": ".py",
   "mimetype": "text/x-python",
   "name": "python",
   "nbconvert_exporter": "python",
   "pygments_lexer": "ipython3",
   "version": "3.10.9"
  }
 },
 "nbformat": 4,
 "nbformat_minor": 5
}
